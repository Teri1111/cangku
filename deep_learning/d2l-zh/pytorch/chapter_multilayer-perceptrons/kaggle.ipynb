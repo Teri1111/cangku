{
 "cells": [
  {
   "cell_type": "code",
   "execution_count": 1,
   "id": "89f4a413",
   "metadata": {},
   "outputs": [],
   "source": [
    "import hashlib\n",
    "import tarfile\n",
    "import os\n",
    "import zipfile\n",
    "import requests\n",
    "import kaggle\n",
    "import pandas as pd\n",
    "import torch\n",
    "from torch import nn\n",
    "import wandb\n",
    "from torch.utils import data\n",
    "from torch.nn import functional as F\n",
    "#DATA_HUB = dict()\n",
    "#DATA_URL = \n",
    "\n"
   ]
  },
  {
   "cell_type": "code",
   "execution_count": 11,
   "id": "a872feb0",
   "metadata": {},
   "outputs": [
    {
     "name": "stdout",
     "output_type": "stream",
     "text": [
      "Downloading california-house-prices.zip to /Users/meinv/Downloads/d2l-zh/pytorch/chapter_multilayer-perceptrons/kaggle\n",
      " 91%|██████████████████████████████████▋   | 27.0M/29.5M [00:02<00:00, 18.4MB/s]\n",
      "100%|██████████████████████████████████████| 29.5M/29.5M [00:02<00:00, 12.7MB/s]\n"
     ]
    }
   ],
   "source": [
    "#下载数据集至指定路径\n",
    "!kaggle competitions download -c california-house-prices -p /Users/meinv/Downloads/d2l-zh/pytorch/chapter_multilayer-perceptrons/kaggle"
   ]
  },
  {
   "cell_type": "code",
   "execution_count": 15,
   "id": "20d67392",
   "metadata": {},
   "outputs": [],
   "source": [
    "#切换工作目录\n",
    "os.chdir('./kaggle')"
   ]
  },
  {
   "cell_type": "code",
   "execution_count": 21,
   "id": "3aea86a7",
   "metadata": {},
   "outputs": [
    {
     "name": "stdout",
     "output_type": "stream",
     "text": [
      "Archive:  california-house-prices.zip\n",
      "  inflating: sample_submission.csv   \n",
      "  inflating: test.csv                \n",
      "  inflating: train.csv               \n"
     ]
    }
   ],
   "source": [
    "!unzip california-house-prices.zip"
   ]
  },
  {
   "cell_type": "code",
   "execution_count": 4,
   "id": "3fdc64e1",
   "metadata": {},
   "outputs": [],
   "source": [
    "#加载数据集\n",
    "train_data = pd.read_csv('train.csv')\n",
    "test_data = pd.read_csv('test.csv')"
   ]
  },
  {
   "cell_type": "code",
   "execution_count": 5,
   "id": "19a9fa6c",
   "metadata": {},
   "outputs": [
    {
     "name": "stdout",
     "output_type": "stream",
     "text": [
      "(47439, 41)\n",
      "(31626, 40)\n"
     ]
    }
   ],
   "source": [
    "#查看数据集\n",
    "print(train_data.shape)\n",
    "print(test_data.shape)"
   ]
  },
  {
   "cell_type": "code",
   "execution_count": 6,
   "id": "def2e3ee",
   "metadata": {},
   "outputs": [
    {
     "name": "stdout",
     "output_type": "stream",
     "text": [
      "   Id            Address  Sold Price  \\\n",
      "0   0        540 Pine Ln   3825000.0   \n",
      "1   1     1727 W 67th St    505000.0   \n",
      "2   2     28093 Pine Ave    140000.0   \n",
      "3   3  10750 Braddock Dr   1775000.0   \n",
      "\n",
      "                                             Summary          Type  \\\n",
      "0  540 Pine Ln, Los Altos, CA 94022 is a single f...  SingleFamily   \n",
      "1  HURRY, HURRY.......Great house 3 bed and 2 bat...  SingleFamily   \n",
      "2  'THE PERFECT CABIN TO FLIP!  Strawberry deligh...  SingleFamily   \n",
      "3  Rare 2-story Gated 5 bedroom Modern Mediterran...  SingleFamily   \n",
      "\n",
      "          City    Zip State  \n",
      "0    Los Altos  94022    CA  \n",
      "1  Los Angeles  90047    CA  \n",
      "2   Strawberry  95375    CA  \n",
      "3  Culver City  90230    CA  \n"
     ]
    }
   ],
   "source": [
    "print(train_data.iloc[0:4, [0, 1, 2, 3, 4,-3, -2, -1]])"
   ]
  },
  {
   "cell_type": "code",
   "execution_count": 7,
   "id": "f475a07d",
   "metadata": {},
   "outputs": [
    {
     "name": "stdout",
     "output_type": "stream",
     "text": [
      "      Id                    Address  \\\n",
      "0  47439        3034 N Coolidge Ave   \n",
      "1  47440         565 Kenilworth Ave   \n",
      "2  47441        3028 N Coolidge Ave   \n",
      "3  47442  3022 N North Coolidge Ave   \n",
      "\n",
      "                                             Summary          Type  \\\n",
      "0  Live within steps to the scenic views on the L...  SingleFamily   \n",
      "1                 duplex fixer. Input for comps only  SingleFamily   \n",
      "2  Live within steps to the scenic views on the L...  SingleFamily   \n",
      "3  Live within steps to the scenic views on the L...  SingleFamily   \n",
      "\n",
      "          City    Zip State  \n",
      "0   Dodgertown  90090    CA  \n",
      "1  San Leandro  94577    CA  \n",
      "2  Los Angeles  90039    CA  \n",
      "3   Dodgertown  90090    CA  \n"
     ]
    }
   ],
   "source": [
    "print(test_data.iloc[0:4, [0, 1, 2, 3, -3, -2, -1]])"
   ]
  },
  {
   "cell_type": "code",
   "execution_count": 8,
   "id": "76f46134",
   "metadata": {},
   "outputs": [],
   "source": [
    "#连接后去除id,price\n",
    "\n",
    "all_features = pd.concat((train_data.iloc[:,[i for i in range(len(train_data.columns)) if i not in [0, 2, 3]]], test_data.iloc[:, 1:]))\n"
   ]
  },
  {
   "cell_type": "code",
   "execution_count": 9,
   "id": "3f0a2ba1",
   "metadata": {},
   "outputs": [
    {
     "name": "stdout",
     "output_type": "stream",
     "text": [
      "(79065, 39)\n"
     ]
    }
   ],
   "source": [
    "print(all_features.shape)"
   ]
  },
  {
   "cell_type": "code",
   "execution_count": 10,
   "id": "0aa79313",
   "metadata": {},
   "outputs": [
    {
     "name": "stdout",
     "output_type": "stream",
     "text": [
      "             Address          Type  Year built  \\\n",
      "0        540 Pine Ln  SingleFamily      1969.0   \n",
      "1     1727 W 67th St  SingleFamily      1926.0   \n",
      "2     28093 Pine Ave  SingleFamily      1958.0   \n",
      "3  10750 Braddock Dr  SingleFamily      1947.0   \n",
      "\n",
      "                                        Heating    Zip State Summary  \n",
      "0  Heating - 2+ Zones, Central Forced Air - Gas  94022    CA     NaN  \n",
      "1                                   Combination  90047    CA     NaN  \n",
      "2                                    Forced air  95375    CA     NaN  \n",
      "3                                       Central  90230    CA     NaN  \n"
     ]
    }
   ],
   "source": [
    "print(all_features.iloc[0:4, [0, 1, 2, 3, -3, -2, -1]])"
   ]
  },
  {
   "cell_type": "code",
   "execution_count": 11,
   "id": "ec4c5d87",
   "metadata": {},
   "outputs": [
    {
     "name": "stdout",
     "output_type": "stream",
     "text": [
      "[38, 35, 37]\n"
     ]
    }
   ],
   "source": [
    "#去除summary,city,state\n",
    "columns_to_remove = [\"Summary\", \"City\", \"State\"]\n",
    "indices_to_remove = [all_features.columns.get_loc(col) for col in columns_to_remove]\n",
    "print(indices_to_remove)\n",
    "all_features = all_features.drop(columns=all_features.columns[indices_to_remove], axis=1)\n",
    "\n"
   ]
  },
  {
   "cell_type": "code",
   "execution_count": 12,
   "id": "8cbd6770",
   "metadata": {},
   "outputs": [],
   "source": [
    "# 处理地址\n",
    "def remove_street_number(address):\n",
    "    parts = address.split()\n",
    "    if len(parts) > 1 and parts[0].isdigit():\n",
    "        parts = parts[1:]\n",
    "    cleaned_address = ' '.join(parts)\n",
    "\n",
    "    return cleaned_address\n",
    "\n",
    "# 在 'Address' 列上应用函数\n",
    "all_features['Address'] = all_features['Address'].apply(remove_street_number)\n"
   ]
  },
  {
   "cell_type": "code",
   "execution_count": 13,
   "id": "bc578825",
   "metadata": {},
   "outputs": [
    {
     "name": "stdout",
     "output_type": "stream",
     "text": [
      "numbers: 46201\n"
     ]
    }
   ],
   "source": [
    "#查看处理后的地址\n",
    "\n",
    "unique_values = all_features[\"Address\"].unique()\n",
    "\n",
    "print(\"numbers:\", len(unique_values))\n",
    "#46201还是太多,不要了"
   ]
  },
  {
   "cell_type": "code",
   "execution_count": 14,
   "id": "c27d7a27",
   "metadata": {},
   "outputs": [
    {
     "name": "stdout",
     "output_type": "stream",
     "text": [
      "Address                        46201\n",
      "Type                             174\n",
      "Year built                       169\n",
      "Heating                         2658\n",
      "Cooling                          909\n",
      "Parking                         9911\n",
      "Lot                            11982\n",
      "Bedrooms                         277\n",
      "Bathrooms                         24\n",
      "Full bathrooms                    17\n",
      "Total interior livable area     5296\n",
      "Total spaces                      67\n",
      "Garage spaces                     57\n",
      "Region                          1258\n",
      "Elementary School               3567\n",
      "Elementary School Score           10\n",
      "Elementary School Distance       268\n",
      "Middle School                    808\n",
      "Middle School Score               10\n",
      "Middle School Distance           254\n",
      "High School                      921\n",
      "High School Score                 10\n",
      "High School Distance             359\n",
      "Flooring                        1738\n",
      "Heating features                1761\n",
      "Cooling features                 594\n",
      "Appliances included            11288\n",
      "Laundry features                3029\n",
      "Parking features                9693\n",
      "Tax assessed value             54541\n",
      "Annual tax amount              21310\n",
      "Listed On                       2815\n",
      "Listed Price                    6360\n",
      "Last Sold On                    6948\n",
      "Last Sold Price                 4784\n",
      "Zip                             1701\n",
      "dtype: int64\n"
     ]
    }
   ],
   "source": [
    "#看其他列的类别数\n",
    "unique_counts = all_features.nunique()\n",
    "\n",
    "print(unique_counts)"
   ]
  },
  {
   "cell_type": "code",
   "execution_count": 15,
   "id": "4360aee7",
   "metadata": {},
   "outputs": [],
   "source": [
    "#去掉其中非数字的并且不同取值数大于500的特征\n",
    "non_numeric_features = all_features.select_dtypes(exclude=['number'])\n",
    "\n",
    "unique_counts_non_numeric = non_numeric_features.nunique()\n",
    "\n",
    "columns_to_remove = unique_counts_non_numeric[unique_counts_non_numeric > 500].index\n",
    "\n",
    "all_features = all_features.drop(columns = columns_to_remove)"
   ]
  },
  {
   "cell_type": "code",
   "execution_count": 16,
   "id": "110a7bc8",
   "metadata": {},
   "outputs": [],
   "source": [
    "#数据预处理\n",
    "# 若无法获得测试数据，则可根据训练数据计算均值和标准差\n",
    "numeric_features = all_features.dtypes[all_features.dtypes != 'object'].index\n",
    "all_features[numeric_features] = all_features[numeric_features].apply(\n",
    "    lambda x: (x - x.mean()) / (x.std()))\n",
    "# 在标准化数据之后，所有均值消失，因此我们可以将缺失值设置为0\n",
    "all_features[numeric_features] = all_features[numeric_features].fillna(0)"
   ]
  },
  {
   "cell_type": "code",
   "execution_count": 17,
   "id": "acf25085",
   "metadata": {},
   "outputs": [
    {
     "name": "stdout",
     "output_type": "stream",
     "text": [
      "(18,)\n"
     ]
    }
   ],
   "source": [
    "print(numeric_features.shape)"
   ]
  },
  {
   "cell_type": "code",
   "execution_count": 18,
   "id": "7907eaff",
   "metadata": {},
   "outputs": [
    {
     "name": "stdout",
     "output_type": "stream",
     "text": [
      "Index(['Year built', 'Lot', 'Bathrooms', 'Full bathrooms',\n",
      "       'Total interior livable area', 'Total spaces', 'Garage spaces',\n",
      "       'Elementary School Score', 'Elementary School Distance',\n",
      "       'Middle School Score', 'Middle School Distance', 'High School Score',\n",
      "       'High School Distance', 'Tax assessed value', 'Annual tax amount',\n",
      "       'Listed Price', 'Last Sold Price', 'Zip'],\n",
      "      dtype='object')\n"
     ]
    }
   ],
   "source": [
    "print(numeric_features)"
   ]
  },
  {
   "cell_type": "code",
   "execution_count": 19,
   "id": "283b6e66",
   "metadata": {},
   "outputs": [
    {
     "name": "stdout",
     "output_type": "stream",
     "text": [
      "           Type  Year built       Lot Bedrooms  Listed Price  Last Sold Price  \\\n",
      "0  SingleFamily    0.443650 -0.018442        2     -0.155958         0.121116   \n",
      "1  SingleFamily   -0.300151 -0.017988        3     -0.303132        -0.675027   \n",
      "2  SingleFamily    0.443650 -0.018442        2     -0.137558         0.000000   \n",
      "\n",
      "        Zip  \n",
      "0 -1.471684  \n",
      "1  0.676922  \n",
      "2 -1.496106  \n"
     ]
    }
   ],
   "source": [
    "print(all_features.iloc[47439:47442, [0, 1, 2, 3, -3, -2, -1]])"
   ]
  },
  {
   "cell_type": "code",
   "execution_count": 20,
   "id": "6ad7d635",
   "metadata": {},
   "outputs": [
    {
     "data": {
      "text/plain": [
       "(79065, 471)"
      ]
     },
     "execution_count": 20,
     "metadata": {},
     "output_type": "execute_result"
    }
   ],
   "source": [
    "# “Dummy_na=True”将“na”（缺失值）视为有效的特征值，并为其创建指示符特征\n",
    "all_features = pd.get_dummies(all_features, dummy_na=True)\n",
    "all_features.shape"
   ]
  },
  {
   "cell_type": "code",
   "execution_count": 21,
   "id": "cc730c0e",
   "metadata": {},
   "outputs": [],
   "source": [
    "#转换为张量\n",
    "n_train = train_data.shape[0]\n",
    "train_features = torch.tensor(all_features[:n_train].values.astype(float), dtype=torch.float32)\n",
    "test_features = torch.tensor(all_features[n_train:].values.astype(float), dtype=torch.float32)\n",
    "train_labels = torch.tensor(train_data['Sold Price'].values.astype(float).reshape(-1, 1), dtype=torch.float32)"
   ]
  },
  {
   "cell_type": "code",
   "execution_count": 22,
   "id": "dfe8c2cc",
   "metadata": {},
   "outputs": [
    {
     "name": "stdout",
     "output_type": "stream",
     "text": [
      "tensor([[ 0.0485, -0.0185, -2.0580,  0.0000],\n",
      "        [-0.2847, -0.0183, -0.3368, -0.1064],\n",
      "        [-0.0367, -0.0180,  0.5238, -1.1676],\n",
      "        [-0.1219,  0.0000,  0.5238,  0.9547]])\n"
     ]
    }
   ],
   "source": [
    "print(train_features[0:4,0:4])"
   ]
  },
  {
   "cell_type": "code",
   "execution_count": 23,
   "id": "5584257c",
   "metadata": {},
   "outputs": [],
   "source": [
    "#先使用简单模型\n",
    "\n",
    "loss = nn.MSELoss()\n",
    "in_features = train_features.shape[1]\n",
    "\n",
    "def get_net1():\n",
    "    net = nn.Sequential(nn.Linear(in_features,1))\n",
    "    return net\n",
    "\n",
    "class  get_net2(nn.Module):\n",
    "    def __init__(self):\n",
    "        super().__init__()\n",
    "\n",
    "\n",
    "def get_net2():\n",
    "    net = nn.Sequential(nn.Linear(in_features,256),\n",
    "                        nn.ReLU(),\n",
    "                        #nn.Dropout(dropout1),\n",
    "                       nn.Linear(256,128),\n",
    "                        nn.ReLU(),\n",
    "                        nn.Linear(128,64),\n",
    "                        nn.ReLU(),\n",
    "                        nn.Linear(64,32),\n",
    "                        nn.ReLU(),\n",
    "                       # nn.Dropout(dropout2),\n",
    "                       nn.Linear(32,1))\n",
    "    return net"
   ]
  },
  {
   "cell_type": "code",
   "execution_count": 24,
   "id": "ab80c0e1",
   "metadata": {},
   "outputs": [],
   "source": [
    "#计算误差\n",
    "\n",
    "def log_rmse(net, features, labels):\n",
    "    clipped_preds = torch.clamp(net(features), 1, float('inf'))\n",
    "    #log 0会出问题,所以通常限制范围在1到正无穷\n",
    "    rmse = torch.sqrt(loss(torch.log(clipped_preds),torch.log(labels)))\n",
    "    return rmse.item()\n"
   ]
  },
  {
   "cell_type": "code",
   "execution_count": 25,
   "id": "47c24b2b",
   "metadata": {},
   "outputs": [],
   "source": [
    "def load_array(data_arrays, batch_size, is_train=True):\n",
    "    dataset = data.TensorDataset(*data_arrays)\n",
    "    return data.DataLoader(dataset, batch_size, shuffle=is_train)"
   ]
  },
  {
   "cell_type": "code",
   "execution_count": 26,
   "id": "059e6098",
   "metadata": {},
   "outputs": [],
   "source": [
    "def train(net, train_features, train_labels, test_features, test_labels,\n",
    "          num_epochs, learning_rate, weight_decay, batch_size):\n",
    "    wandb.watch(net)\n",
    "    train_ls, test_ls = [], []\n",
    "    train_iter = load_array((train_features,train_labels), batch_size)\n",
    "    optimizer = torch.optim.Adam(net.parameters(),\n",
    "                                lr = learning_rate,\n",
    "                                weight_decay = weight_decay)\n",
    "    for epoch in range(num_epochs):\n",
    "        for X, y in train_iter:\n",
    "            optimizer.zero_grad()\n",
    "            l = loss(net(X), y)\n",
    "            l.backward()\n",
    "            optimizer.step()\n",
    "        record_loss = log_rmse(net.to('cpu'), train_features, train_labels)\n",
    "        wandb.log({'loss': record_loss,'epoch': epoch})\n",
    "        train_ls.append(log_rmse(net, train_features, train_labels))\n",
    "        if test_labels is not None:\n",
    "            test_ls.append(log_rmse(net, test_features, train_labels))\n",
    "    wandb.finish()\n",
    "    return train_ls, test_ls\n",
    "\n"
   ]
  },
  {
   "cell_type": "code",
   "execution_count": 27,
   "id": "6ebfaf73",
   "metadata": {},
   "outputs": [],
   "source": [
    "def get_default_device():\n",
    "    if torch.cuda.is_available():\n",
    "        return 'cuda'\n",
    "    elif getattr (torch.backends, 'mps', None) is not None and torch.backends.mps.is_available():\n",
    "        return 'mps'\n",
    "    else:\n",
    "        return 'cpu'"
   ]
  },
  {
   "cell_type": "code",
   "execution_count": 28,
   "id": "c86df60a",
   "metadata": {},
   "outputs": [],
   "source": [
    "#移动到gpu上\n",
    "\n",
    "def train(net, train_features, train_labels, test_features, test_labels,\n",
    "          num_epochs, learning_rate, weight_decay, batch_size):\n",
    "    device = get_default_device()\n",
    "    net.to(device)\n",
    "    wandb.watch(net)\n",
    "    train_ls, test_ls = [], []\n",
    "    train_iter = load_array((train_features, train_labels), batch_size, is_train=True)\n",
    "    optimizer = torch.optim.Adam(net.parameters(),\n",
    "                                lr=learning_rate,\n",
    "                                weight_decay=weight_decay)\n",
    "    loss_fn = nn.MSELoss()\n",
    "\n",
    "    for epoch in range(num_epochs):\n",
    "        for X, y in train_iter:\n",
    "            X, y = X.to(device), y.to(device)\n",
    "            optimizer.zero_grad()\n",
    "            l = loss_fn(net(X), y)\n",
    "            l.backward()\n",
    "            optimizer.step()\n",
    "\n",
    "        record_loss = log_rmse(net.to(device), train_features, train_labels)\n",
    "        wandb.log({'loss': record_loss, 'epoch': epoch})\n",
    "        train_ls.append(log_rmse(net, train_features, train_labels))\n",
    "\n",
    "        if test_labels is not None:\n",
    "            test_ls.append(log_rmse(net, test_features, train_labels))\n",
    "\n",
    "    wandb.finish()\n",
    "    return train_ls, test_ls\n",
    "\n"
   ]
  },
  {
   "cell_type": "code",
   "execution_count": 29,
   "id": "a7d868c2",
   "metadata": {},
   "outputs": [
    {
     "data": {
      "text/html": [
       "Finishing last run (ID:yzbafm65) before initializing another..."
      ],
      "text/plain": [
       "<IPython.core.display.HTML object>"
      ]
     },
     "metadata": {},
     "output_type": "display_data"
    },
    {
     "data": {
      "text/html": [
       " View run <strong style=\"color:#cdcd00\">confused-sound-24</strong> at: <a href='https://wandb.ai/teriii/kaggle_california/runs/yzbafm65' target=\"_blank\">https://wandb.ai/teriii/kaggle_california/runs/yzbafm65</a><br/> View project at: <a href='https://wandb.ai/teriii/kaggle_california' target=\"_blank\">https://wandb.ai/teriii/kaggle_california</a><br/>Synced 6 W&B file(s), 0 media file(s), 0 artifact file(s) and 0 other file(s)"
      ],
      "text/plain": [
       "<IPython.core.display.HTML object>"
      ]
     },
     "metadata": {},
     "output_type": "display_data"
    },
    {
     "data": {
      "text/html": [
       "Find logs at: <code>./wandb/run-20240831_201144-yzbafm65/logs</code>"
      ],
      "text/plain": [
       "<IPython.core.display.HTML object>"
      ]
     },
     "metadata": {},
     "output_type": "display_data"
    },
    {
     "data": {
      "text/html": [
       "The new W&B backend becomes opt-out in version 0.18.0; try it out with `wandb.require(\"core\")`! See https://wandb.me/wandb-core for more information."
      ],
      "text/plain": [
       "<IPython.core.display.HTML object>"
      ]
     },
     "metadata": {},
     "output_type": "display_data"
    },
    {
     "data": {
      "text/html": [
       "Successfully finished last run (ID:yzbafm65). Initializing new run:<br/>"
      ],
      "text/plain": [
       "<IPython.core.display.HTML object>"
      ]
     },
     "metadata": {},
     "output_type": "display_data"
    },
    {
     "data": {
      "text/html": [
       "Tracking run with wandb version 0.17.8"
      ],
      "text/plain": [
       "<IPython.core.display.HTML object>"
      ]
     },
     "metadata": {},
     "output_type": "display_data"
    },
    {
     "data": {
      "text/html": [
       "Run data is saved locally in <code>/Users/meinv/Documents/GitHub/cangku/deep_learning/d2l-zh/pytorch/chapter_multilayer-perceptrons/wandb/run-20240831_201316-pyp4mvim</code>"
      ],
      "text/plain": [
       "<IPython.core.display.HTML object>"
      ]
     },
     "metadata": {},
     "output_type": "display_data"
    },
    {
     "data": {
      "text/html": [
       "Syncing run <strong><a href='https://wandb.ai/teriii/kaggle_california/runs/pyp4mvim' target=\"_blank\">leafy-dust-25</a></strong> to <a href='https://wandb.ai/teriii/kaggle_california' target=\"_blank\">Weights & Biases</a> (<a href='https://wandb.me/run' target=\"_blank\">docs</a>)<br/>"
      ],
      "text/plain": [
       "<IPython.core.display.HTML object>"
      ]
     },
     "metadata": {},
     "output_type": "display_data"
    },
    {
     "data": {
      "text/html": [
       " View project at <a href='https://wandb.ai/teriii/kaggle_california' target=\"_blank\">https://wandb.ai/teriii/kaggle_california</a>"
      ],
      "text/plain": [
       "<IPython.core.display.HTML object>"
      ]
     },
     "metadata": {},
     "output_type": "display_data"
    },
    {
     "data": {
      "text/html": [
       " View run at <a href='https://wandb.ai/teriii/kaggle_california/runs/pyp4mvim' target=\"_blank\">https://wandb.ai/teriii/kaggle_california/runs/pyp4mvim</a>"
      ],
      "text/plain": [
       "<IPython.core.display.HTML object>"
      ]
     },
     "metadata": {},
     "output_type": "display_data"
    },
    {
     "data": {
      "text/html": [
       "<button onClick=\"this.nextSibling.style.display='block';this.style.display='none';\">Display W&B run</button><iframe src='https://wandb.ai/teriii/kaggle_california/runs/pyp4mvim?jupyter=true' style='border:none;width:100%;height:420px;display:none;'></iframe>"
      ],
      "text/plain": [
       "<wandb.sdk.wandb_run.Run at 0x162317290>"
      ]
     },
     "execution_count": 29,
     "metadata": {},
     "output_type": "execute_result"
    }
   ],
   "source": [
    "num_epochs, lr, weight_decay, batch_size, dropout1, dropout2 = 200, 0.001, 0.01, 128, 0.1, 0.5\n",
    "net = get_net2()\n",
    "\n",
    "\n",
    "wandb.init(project = \"kaggle_california\", config={\"learning_rate\": lr,\n",
    "                    \"weight_decay\": weight_decay,\n",
    "                    \"batch_size\": batch_size,\n",
    "                    \"total_run\": num_epochs,\n",
    "                    }\n",
    "          )\n"
   ]
  },
  {
   "cell_type": "code",
   "execution_count": 30,
   "id": "21a3a15b",
   "metadata": {},
   "outputs": [
    {
     "data": {
      "text/html": [
       "<style>\n",
       "    table.wandb td:nth-child(1) { padding: 0 10px; text-align: left ; width: auto;} td:nth-child(2) {text-align: left ; width: 100%}\n",
       "    .wandb-row { display: flex; flex-direction: row; flex-wrap: wrap; justify-content: flex-start; width: 100% }\n",
       "    .wandb-col { display: flex; flex-direction: column; flex-basis: 100%; flex: 1; padding: 10px; }\n",
       "    </style>\n",
       "<div class=\"wandb-row\"><div class=\"wandb-col\"><h3>Run history:</h3><br/><table class=\"wandb\"><tr><td>epoch</td><td>▁▁▁▁▂▂▂▂▂▃▃▃▃▃▃▄▄▄▄▄▅▅▅▅▅▅▆▆▆▆▆▇▇▇▇▇▇███</td></tr><tr><td>loss</td><td>█▅▅▅▅▅▅▅▅▅▅▅▅▅▅▅▅▅▅▅▅▅▅▅▄▅▄▄▄▃▂▂▂▂▁▂▁▂▂▁</td></tr></table><br/></div><div class=\"wandb-col\"><h3>Run summary:</h3><br/><table class=\"wandb\"><tr><td>epoch</td><td>199</td></tr><tr><td>loss</td><td>0.27601</td></tr></table><br/></div></div>"
      ],
      "text/plain": [
       "<IPython.core.display.HTML object>"
      ]
     },
     "metadata": {},
     "output_type": "display_data"
    },
    {
     "data": {
      "text/html": [
       " View run <strong style=\"color:#cdcd00\">leafy-dust-25</strong> at: <a href='https://wandb.ai/teriii/kaggle_california/runs/pyp4mvim' target=\"_blank\">https://wandb.ai/teriii/kaggle_california/runs/pyp4mvim</a><br/> View project at: <a href='https://wandb.ai/teriii/kaggle_california' target=\"_blank\">https://wandb.ai/teriii/kaggle_california</a><br/>Synced 5 W&B file(s), 0 media file(s), 0 artifact file(s) and 0 other file(s)"
      ],
      "text/plain": [
       "<IPython.core.display.HTML object>"
      ]
     },
     "metadata": {},
     "output_type": "display_data"
    },
    {
     "data": {
      "text/html": [
       "Find logs at: <code>./wandb/run-20240831_201316-pyp4mvim/logs</code>"
      ],
      "text/plain": [
       "<IPython.core.display.HTML object>"
      ]
     },
     "metadata": {},
     "output_type": "display_data"
    },
    {
     "data": {
      "text/html": [
       "The new W&B backend becomes opt-out in version 0.18.0; try it out with `wandb.require(\"core\")`! See https://wandb.me/wandb-core for more information."
      ],
      "text/plain": [
       "<IPython.core.display.HTML object>"
      ]
     },
     "metadata": {},
     "output_type": "display_data"
    }
   ],
   "source": [
    "device = get_default_device()\n",
    "train_ls, valid_ls = train(net, train_features.to(device), train_labels.to(device),\n",
    "                            None, None,\n",
    "                            num_epochs, lr, weight_decay, batch_size)\n"
   ]
  },
  {
   "cell_type": "code",
   "execution_count": 262,
   "id": "a508cc5b",
   "metadata": {},
   "outputs": [],
   "source": [
    "preds = net(test_features).detach().numpy()\n",
    "\n",
    "test_data['Sold Price'] = pd.Series(preds.reshape(1, -1)[0])\n",
    "submission = pd.concat([test_data['Id'], test_data['Sold Price']], axis = 1)\n",
    "submission.to_csv('submission.csv',index=False)"
   ]
  },
  {
   "cell_type": "code",
   "execution_count": 263,
   "id": "24cd756e",
   "metadata": {},
   "outputs": [
    {
     "name": "stdout",
     "output_type": "stream",
     "text": [
      "Warning: Looks like you're using an outdated API Version, please consider updating (server 1.6.7 / client 1.6.6)\n",
      "100%|█████████████████████████████████████████| 485k/485k [00:02<00:00, 186kB/s]\n",
      "Successfully submitted to California House Prices"
     ]
    }
   ],
   "source": [
    "!kaggle competitions submit -c california-house-prices -f submission.csv -m \"Message\""
   ]
  },
  {
   "cell_type": "code",
   "execution_count": null,
   "id": "ee3e62cf",
   "metadata": {},
   "outputs": [],
   "source": []
  }
 ],
 "metadata": {
  "kernelspec": {
   "display_name": "Python 3 (ipykernel)",
   "language": "python",
   "name": "python3"
  },
  "language_info": {
   "codemirror_mode": {
    "name": "ipython",
    "version": 3
   },
   "file_extension": ".py",
   "mimetype": "text/x-python",
   "name": "python",
   "nbconvert_exporter": "python",
   "pygments_lexer": "ipython3",
   "version": "3.11.9"
  }
 },
 "nbformat": 4,
 "nbformat_minor": 5
}
