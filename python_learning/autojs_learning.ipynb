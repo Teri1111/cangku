{
 "cells": [
  {
   "cell_type": "code",
   "execution_count": 15,
   "metadata": {},
   "outputs": [],
   "source": [
    "import pyautogui #导入负责模拟键鼠的包\n",
    "import time\n",
    "#导入负责ocr的包\n",
    "import pytesseract\n",
    "import cv2\n",
    "import numpy as np\n",
    "from IPython.display import Image, display\n",
    "from PIL import ImageGrab, Image\n",
    "import io"
   ]
  },
  {
   "cell_type": "code",
   "execution_count": 2,
   "metadata": {},
   "outputs": [],
   "source": [
    "pytesseract.pytesseract.tesseract_cmd = '/opt/homebrew/Cellar/tesseract/5.4.1/bin/tesseract'\n"
   ]
  },
  {
   "cell_type": "code",
   "execution_count": 16,
   "metadata": {},
   "outputs": [],
   "source": [
    "\n",
    "# 获取屏幕截图\n",
    "def get_screenshot():\n",
    "    region = (100, 100, 300, 400)\n",
    "    \n",
    "    screenshot = ImageGrab.grab()\n",
    "    screenshot = cv2.cvtColor(np.array(screenshot), cv2.COLOR_RGB2BGR)\n",
    "   \n",
    "    return screenshot\n",
    "\n",
    "# 查找指定文字的坐标\n",
    "def find_text_coordinates(image, target_text):\n",
    "    gray = cv2.cvtColor(image, cv2.COLOR_BGR2GRAY)\n",
    "    # 使用pytesseract进行OCR，指定中文语言包\n",
    "    data = pytesseract.image_to_data(gray, lang='chi_sim', output_type=pytesseract.Output.DICT)\n",
    "    for i in range(len(data['text'])):\n",
    "        if target_text in data['text'][i]:\n",
    "            x = data['left'][i]\n",
    "            y = data['top'][i]\n",
    "            w = data['width'][i]\n",
    "            h = data['height'][i]\n",
    "            return (x + w // 2, y + h // 2)\n",
    "    return None\n",
    "\n",
    "\n"
   ]
  },
  {
   "cell_type": "code",
   "execution_count": 17,
   "metadata": {},
   "outputs": [
    {
     "name": "stdout",
     "output_type": "stream",
     "text": [
      "430 22\n"
     ]
    }
   ],
   "source": [
    "# 示例：获取屏幕截图并查找指定文字\n",
    "screenshot = get_screenshot()\n",
    "target_text = \"选择\"  # 要查找的目标文字\n",
    "coordinates = find_text_coordinates(screenshot, target_text)\n",
    "\n",
    "# 如果找到目标文字，则点击该坐标\n",
    "if coordinates:\n",
    "    image = screenshot\n",
    "    cv2.circle(image, coordinates, radius=5, color=(0, 255, 0), thickness=-1)\n",
    "    cv2.imshow('Detected Text', image)\n",
    "    cv2.waitKey(0)\n",
    "    cv2.destroyAllWindows()\n",
    "    cv2.waitKey(1)\n",
    "    print(coordinates[0], coordinates[1])\n",
    "    pyautogui.click(coordinates[0], coordinates[1])\n",
    "else:\n",
    "    print(\"未找到指定文字\")"
   ]
  },
  {
   "cell_type": "code",
   "execution_count": 18,
   "metadata": {},
   "outputs": [
    {
     "name": "stdout",
     "output_type": "stream",
     "text": [
      "截图的分辨率是：2880x1800\n"
     ]
    }
   ],
   "source": [
    "screenshot = pyautogui.screenshot()\n",
    "\n",
    "width, height = screenshot.size\n",
    "\n",
    "print(f\"截图的分辨率是：{width}x{height}\")\n",
    "\n"
   ]
  },
  {
   "cell_type": "code",
   "execution_count": null,
   "metadata": {},
   "outputs": [],
   "source": [
    "time.sleep(4)\n",
    "\n",
    "pyautogui.moveTo(674, 865, duration = 0.001)\n",
    "time.sleep(0.1)\n",
    "pyautogui.moveTo(675, 776, duration = 0.001)\n",
    "time.sleep(0.1)\n",
    "pyautogui.click()\n",
    "time.sleep(0.4)\n",
    "pyautogui.moveTo(776, 866, duration = 0.001)\n",
    "time.sleep(0.1)\n",
    "pyautogui.moveTo(739, 621, duration = 0.001)\n",
    "time.sleep(0.1)\n",
    "pyautogui.click()"
   ]
  },
  {
   "cell_type": "code",
   "execution_count": 13,
   "metadata": {},
   "outputs": [
    {
     "name": "stdout",
     "output_type": "stream",
     "text": [
      "217 , 11\n"
     ]
    }
   ],
   "source": [
    "currentMouseX, currentMouseY = pyautogui.position()\n",
    "print(currentMouseX,',',currentMouseY)"
   ]
  },
  {
   "cell_type": "code",
   "execution_count": 12,
   "metadata": {},
   "outputs": [],
   "source": [
    "pyautogui.moveTo(100, 100, duration = 1)"
   ]
  },
  {
   "cell_type": "code",
   "execution_count": null,
   "metadata": {},
   "outputs": [],
   "source": []
  }
 ],
 "metadata": {
  "kernelspec": {
   "display_name": "Python 3",
   "language": "python",
   "name": "python3"
  },
  "language_info": {
   "codemirror_mode": {
    "name": "ipython",
    "version": 3
   },
   "file_extension": ".py",
   "mimetype": "text/x-python",
   "name": "python",
   "nbconvert_exporter": "python",
   "pygments_lexer": "ipython3",
   "version": "3.11.9"
  }
 },
 "nbformat": 4,
 "nbformat_minor": 2
}
