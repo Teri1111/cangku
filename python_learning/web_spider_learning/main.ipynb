{
 "cells": [
  {
   "cell_type": "code",
   "execution_count": 1,
   "metadata": {},
   "outputs": [],
   "source": [
    "import httpx\n",
    "from parsel import Selector\n",
    "import asyncio\n"
   ]
  },
  {
   "cell_type": "code",
   "execution_count": 14,
   "metadata": {},
   "outputs": [],
   "source": [
    "uri0 = \"/bbs/Gossiping/index.html\"\n",
    "uri1 = \"/bbs/Stock/index.html\"\n",
    "BASE_HOST = \"https://www.ptt.cc\"\n",
    "HEADERS1 = {\"User-Agent\" : \"Mozilla/5.0 (Macintosh; Intel Mac OS X 10_15_7) AppleWebKit/537.36 (KHTML, like Gecko) Chrome/126.0.0.0 Safari/537.36 Edg/126.0.0.0\"}"
   ]
  },
  {
   "cell_type": "code",
   "execution_count": 15,
   "metadata": {},
   "outputs": [],
   "source": [
    "\n",
    "HEADERS = {\"User-Agent\" : \"Mozilla/5.0 (Macintosh; Intel Mac OS X 10_15_7) AppleWebKit/537.36 (KHTML, like Gecko) Chrome/126.0.0.0 Safari/537.36 Edg/126.0.0.0\"\n",
    "           ,\"Cookie\": \"over18=1; _gid=GA1.2.876246281.1723107316; _ga_DZ6Y3BY9GW=GS1.1.1723185060.8.1.1723189831.0.0.0; _ga=GA1.1.91699849.1721287811\"\n",
    "           }"
   ]
  },
  {
   "cell_type": "code",
   "execution_count": 28,
   "metadata": {},
   "outputs": [
    {
     "name": "stdout",
     "output_type": "stream",
     "text": [
      "SUCCESS\n"
     ]
    }
   ],
   "source": [
    "response = httpx.get(url= BASE_HOST + uri0, headers= HEADERS)\n",
    "\n",
    "if response.status_code == 200:\n",
    "    print(\"SUCCESS\")\n",
    "# elif response.status_code == 302:\n",
    "#     redirect_url = response.headers['Location']\n",
    "#     print(response.headers)\n",
    "#     print(redirect_url)\n",
    "#     response = httpx.get(url= BASE_HOST + redirect_url, headers= HEADERS)\n",
    "#     print(response.text)\n",
    "else:\n",
    "    print(f\"error code:{response.status_code}\")\n",
    "    print(\"\")"
   ]
  },
  {
   "cell_type": "code",
   "execution_count": null,
   "metadata": {},
   "outputs": [],
   "source": [
    "print(response.text)"
   ]
  },
  {
   "cell_type": "code",
   "execution_count": 32,
   "metadata": {},
   "outputs": [],
   "source": [
    "selector = Selector(text=response.text)\n",
    "css_selector = \"#action-bar-container > div > div.btn-group.btn-group-paging > a:nth-child(2)\"\n",
    "pagination_link = selector.css(css_selector)[0].attrib['href'].strip()\n",
    "previous_page_number = int(pagination_link.replace(\"/bbs/Gossiping/index\",\"\").replace(\".html\", \"\"))"
   ]
  },
  {
   "cell_type": "code",
   "execution_count": 33,
   "metadata": {},
   "outputs": [
    {
     "name": "stdout",
     "output_type": "stream",
     "text": [
      "39327\n"
     ]
    }
   ],
   "source": [
    "print(previous_page_number)"
   ]
  },
  {
   "cell_type": "code",
   "execution_count": 18,
   "metadata": {},
   "outputs": [],
   "source": [
    "async def get_pre_page_number() -> int:\n",
    "    uri = \"/bbs/Gossiping/index.html\"\n",
    "    async with httpx.AsyncClient() as client:\n",
    "        response = await client.get(BASE_HOST + uri, headers = HEADERS)\n",
    "        if response.status_code != 200:\n",
    "            raise Exception(\"send request got error status code:\", response.text)\n",
    "        selector = Selector(text=response.text)\n",
    "        css_selector = \"#action-bar-container > div > div.btn-group.btn-group-paging > a:nth-child(2)\"\n",
    "        pagination_link = selector.css(css_selector)[0].attrib['href'].strip()\n",
    "        previous_page_number = int(pagination_link.replace(\"/bbs/Gossiping/index\",\"\").replace(\".html\", \"\"))\n",
    "        return previous_page_number\n"
   ]
  },
  {
   "cell_type": "code",
   "execution_count": 19,
   "metadata": {},
   "outputs": [
    {
     "data": {
      "text/plain": [
       "39328"
      ]
     },
     "execution_count": 19,
     "metadata": {},
     "output_type": "execute_result"
    }
   ],
   "source": [
    "num = await get_pre_page_number()\n",
    "num"
   ]
  },
  {
   "cell_type": "code",
   "execution_count": 8,
   "metadata": {},
   "outputs": [],
   "source": [
    "\n",
    "async def get_previous_page_number() -> int:\n",
    "    uri = \"/bbs/Gossiping/index.html\"\n",
    "    async with httpx.AsyncClient() as client:\n",
    "        response = await client.get(BASE_HOST + uri, headers=HEADERS)\n",
    "        if response.status_code != 200:\n",
    "            raise Exception(\"send request got error status code, reason：\", response.text)\n",
    "        selector = Selector(text=response.text)\n",
    "        css_selector = \"#action-bar-container > div > div.btn-group.btn-group-paging > a:nth-child(2)\"\n",
    "        pagination_link = selector.css(css_selector)[0].attrib['href'].strip()\n",
    "        previous_page_number = int(pagination_link.replace(\"/bbs/Gossiping/index\", \"\").replace(\".html\", \"\"))\n",
    "        return previous_page_number"
   ]
  },
  {
   "cell_type": "code",
   "execution_count": 10,
   "metadata": {},
   "outputs": [
    {
     "data": {
      "text/plain": [
       "39327"
      ]
     },
     "execution_count": 10,
     "metadata": {},
     "output_type": "execute_result"
    }
   ],
   "source": [
    "num = await get_previous_page_number()\n",
    "num"
   ]
  },
  {
   "cell_type": "markdown",
   "metadata": {},
   "source": []
  },
  {
   "cell_type": "code",
   "execution_count": 48,
   "metadata": {},
   "outputs": [
    {
     "data": {
      "text/plain": [
       "<function __main__.get_previous_page_number() -> int>"
      ]
     },
     "execution_count": 48,
     "metadata": {},
     "output_type": "execute_result"
    }
   ],
   "source": [
    "get_previous_page_number"
   ]
  },
  {
   "cell_type": "code",
   "execution_count": null,
   "metadata": {},
   "outputs": [],
   "source": []
  }
 ],
 "metadata": {
  "kernelspec": {
   "display_name": "Python 3",
   "language": "python",
   "name": "python3"
  },
  "language_info": {
   "codemirror_mode": {
    "name": "ipython",
    "version": 3
   },
   "file_extension": ".py",
   "mimetype": "text/x-python",
   "name": "python",
   "nbconvert_exporter": "python",
   "pygments_lexer": "ipython3",
   "version": "3.11.9"
  }
 },
 "nbformat": 4,
 "nbformat_minor": 2
}
